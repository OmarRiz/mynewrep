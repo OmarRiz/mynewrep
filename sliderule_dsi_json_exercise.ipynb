{
 "cells": [
  {
   "cell_type": "markdown",
   "metadata": {},
   "source": [
    "# JSON examples and exercise\n",
    "****\n",
    "+ get familiar with packages for dealing with JSON\n",
    "+ study examples with JSON strings and files \n",
    "+ work on exercise to be completed and submitted \n",
    "****\n",
    "+ reference: http://pandas.pydata.org/pandas-docs/stable/io.html#io-json-reader\n",
    "+ data source: http://jsonstudio.com/resources/\n",
    "****"
   ]
  },
  {
   "cell_type": "code",
   "execution_count": 1,
   "metadata": {},
   "outputs": [],
   "source": [
    "import pandas as pd"
   ]
  },
  {
   "cell_type": "markdown",
   "metadata": {},
   "source": [
    "## imports for Python, Pandas"
   ]
  },
  {
   "cell_type": "code",
   "execution_count": 2,
   "metadata": {},
   "outputs": [],
   "source": [
    "import json\n",
    "from pandas.io.json import json_normalize"
   ]
  },
  {
   "cell_type": "markdown",
   "metadata": {},
   "source": [
    "## JSON example, with string\n",
    "\n",
    "+ demonstrates creation of normalized dataframes (tables) from nested json string\n",
    "+ source: http://pandas.pydata.org/pandas-docs/stable/io.html#normalization"
   ]
  },
  {
   "cell_type": "code",
   "execution_count": 145,
   "metadata": {},
   "outputs": [],
   "source": [
    "# define json string\n",
    "data = [{'state': 'Florida', \n",
    "         'shortname': 'FL',\n",
    "         'info': {'governor': 'Rick Scott'},\n",
    "         'counties': [{'name': 'Dade', 'population': 12345},\n",
    "                      {'name': 'Broward', 'population': 40000},\n",
    "                      {'name': 'Palm Beach', 'population': 60000}]},\n",
    "        {'state': 'Ohio',\n",
    "         'shortname': 'OH',\n",
    "         'info': {'governor': 'John Kasich'},\n",
    "         'counties': [{'name': 'Summit', 'population': 1234},\n",
    "                      {'name': 'Cuyahoga', 'population': 1337}]}]"
   ]
  },
  {
   "cell_type": "code",
   "execution_count": 146,
   "metadata": {},
   "outputs": [],
   "source": [
    "# use normalization to create tables from nested element\n",
    "# json_normalize(data, 'counties')"
   ]
  },
  {
   "cell_type": "code",
   "execution_count": 147,
   "metadata": {},
   "outputs": [],
   "source": [
    "# further populate tables created from nested element\n",
    "# json_normalize(data, 'counties', ['state', 'shortname', ['info', 'governor']])"
   ]
  },
  {
   "cell_type": "markdown",
   "metadata": {},
   "source": [
    "****\n",
    "## JSON example, with file\n",
    "\n",
    "+ demonstrates reading in a json file as a string and as a table\n",
    "+ uses small sample file containing data about projects funded by the World Bank \n",
    "+ data source: http://jsonstudio.com/resources/"
   ]
  },
  {
   "cell_type": "code",
   "execution_count": 148,
   "metadata": {},
   "outputs": [],
   "source": [
    "# load json as string\n",
    "# json.load((open('data/world_bank_projects_less.json')))"
   ]
  },
  {
   "cell_type": "code",
   "execution_count": 149,
   "metadata": {},
   "outputs": [],
   "source": [
    "# load as Pandas dataframe\n",
    "sample_json_df = pd.read_json('data/world_bank_projects_less.json')\n",
    "# sample_json_df"
   ]
  },
  {
   "cell_type": "markdown",
   "metadata": {},
   "source": [
    "****\n",
    "## JSON exercise\n",
    "\n",
    "Using data in file 'data/world_bank_projects.json' and the techniques demonstrated above,\n",
    "1. Find the 10 countries with most projects\n",
    "2. Find the top 10 major project themes (using column 'mjtheme_namecode')\n",
    "3. In 2. above you will notice that some entries have only the code and the name is missing. Create a dataframe with the missing names filled in."
   ]
  },
  {
   "cell_type": "code",
   "execution_count": 150,
   "metadata": {},
   "outputs": [
    {
     "name": "stdout",
     "output_type": "stream",
     "text": [
      "People's Republic of China         19\n",
      "Republic of Indonesia              19\n",
      "Socialist Republic of Vietnam      17\n",
      "Republic of India                  16\n",
      "Republic of Yemen                  13\n",
      "Kingdom of Morocco                 12\n",
      "Nepal                              12\n",
      "People's Republic of Bangladesh    12\n",
      "Republic of Mozambique             11\n",
      "Africa                             11\n",
      "Name: country_namecode, dtype: int64\n"
     ]
    }
   ],
   "source": [
    "json_df = pd.read_json('data/world_bank_projects.json')\n",
    "print(json_df['country_namecode'].str.split('!').str[0].value_counts()[:10])"
   ]
  },
  {
   "cell_type": "code",
   "execution_count": 151,
   "metadata": {},
   "outputs": [
    {
     "name": "stdout",
     "output_type": "stream",
     "text": [
      "The top 10 major project themes are: \n",
      " Environment and natural resources management    250\n",
      "Rural development                               216\n",
      "Human development                               210\n",
      "Public sector governance                        199\n",
      "Social protection and risk management           168\n",
      "Financial and private sector development        146\n",
      "Social dev/gender/inclusion                     130\n",
      "Trade and integration                            77\n",
      "Urban development                                50\n",
      "Economic management                              38\n",
      "Name: code, dtype: int64\n"
     ]
    }
   ],
   "source": [
    "data = json.load((open('data/world_bank_projects.json')))\n",
    "df = json_normalize(data, 'mjtheme_namecode')\n",
    "theme_dict = {}\n",
    "for index,row in df.iterrows():\n",
    "    if row['name'] != '':\n",
    "        theme_dict[row['code']] = row['name']\n",
    "theme_count = df['code'].value_counts()[:10]\n",
    "theme_count.index = [theme_dict[item] for item in theme_count.index[:10]]\n",
    "print('The top 10 major project themes are: \\n', theme_count)\n",
    "df['name'] = df['code'].map(theme_dict)\n"
   ]
  },
  {
   "cell_type": "code",
   "execution_count": null,
   "metadata": {},
   "outputs": [],
   "source": []
  },
  {
   "cell_type": "code",
   "execution_count": null,
   "metadata": {},
   "outputs": [],
   "source": []
  },
  {
   "cell_type": "code",
   "execution_count": null,
   "metadata": {},
   "outputs": [],
   "source": []
  }
 ],
 "metadata": {
  "kernelspec": {
   "display_name": "Python 3",
   "language": "python",
   "name": "python3"
  },
  "language_info": {
   "codemirror_mode": {
    "name": "ipython",
    "version": 3
   },
   "file_extension": ".py",
   "mimetype": "text/x-python",
   "name": "python",
   "nbconvert_exporter": "python",
   "pygments_lexer": "ipython3",
   "version": "3.6.5"
  }
 },
 "nbformat": 4,
 "nbformat_minor": 1
}
