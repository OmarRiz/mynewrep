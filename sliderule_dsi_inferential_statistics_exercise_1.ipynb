{
 "cells": [
  {
   "cell_type": "markdown",
   "metadata": {},
   "source": [
    "# What is the True Normal Human Body Temperature? \n",
    "\n",
    "#### Background\n",
    "\n",
    "The mean normal body temperature was held to be 37$^{\\circ}$C or 98.6$^{\\circ}$F for more than 120 years since it was first conceptualized and reported by Carl Wunderlich in a famous 1868 book. But, is this value statistically correct?"
   ]
  },
  {
   "cell_type": "markdown",
   "metadata": {},
   "source": [
    "<h3>Exercises</h3>\n",
    "\n",
    "<p>In this exercise, you will analyze a dataset of human body temperatures and employ the concepts of hypothesis testing, confidence intervals, and statistical significance.</p>\n",
    "\n",
    "<p>Answer the following questions <b>in this notebook below and submit to your Github account</b>.</p> \n",
    "\n",
    "<ol>\n",
    "<li>  Is the distribution of body temperatures normal? \n",
    "    <ul>\n",
    "    <li> Although this is not a requirement for the Central Limit Theorem to hold (read the introduction on Wikipedia's page about the CLT carefully: https://en.wikipedia.org/wiki/Central_limit_theorem), it gives us some peace of mind that the population may also be normally distributed if we assume that this sample is representative of the population.\n",
    "    <li> Think about the way you're going to check for the normality of the distribution. Graphical methods are usually used first, but there are also other ways: https://en.wikipedia.org/wiki/Normality_test\n",
    "    </ul>\n",
    "<li>  Is the sample size large? Are the observations independent?\n",
    "    <ul>\n",
    "    <li> Remember that this is a condition for the Central Limit Theorem, and hence the statistical tests we are using, to apply.\n",
    "    </ul>\n",
    "<li>  Is the true population mean really 98.6 degrees F?\n",
    "    <ul>\n",
    "    <li> First, try a bootstrap hypothesis test.\n",
    "    <li> Now, let's try frequentist statistical testing. Would you use a one-sample or two-sample test? Why?\n",
    "    <li> In this situation, is it appropriate to use the $t$ or $z$ statistic? \n",
    "    <li> Now try using the other test. How is the result be different? Why?\n",
    "    </ul>\n",
    "<li>  Draw a small sample of size 10 from the data and repeat both frequentist tests. \n",
    "    <ul>\n",
    "    <li> Which one is the correct one to use? \n",
    "    <li> What do you notice? What does this tell you about the difference in application of the $t$ and $z$ statistic?\n",
    "    </ul>\n",
    "<li>  At what temperature should we consider someone's temperature to be \"abnormal\"?\n",
    "    <ul>\n",
    "    <li> As in the previous example, try calculating everything using the boostrap approach, as well as the frequentist approach.\n",
    "    <li> Start by computing the margin of error and confidence interval. When calculating the confidence interval, keep in mind that you should use the appropriate formula for one draw, and not N draws.\n",
    "    </ul>\n",
    "<li>  Is there a significant difference between males and females in normal temperature?\n",
    "    <ul>\n",
    "    <li> What testing approach did you use and why?\n",
    "    <li> Write a story with your conclusion in the context of the original problem.\n",
    "    </ul>\n",
    "</ol>\n",
    "\n",
    "You can include written notes in notebook cells using Markdown: \n",
    "   - In the control panel at the top, choose Cell > Cell Type > Markdown\n",
    "   - Markdown syntax: http://nestacms.com/docs/creating-content/markdown-cheat-sheet\n",
    "\n",
    "#### Resources\n",
    "\n",
    "+ Information and data sources: http://www.amstat.org/publications/jse/datasets/normtemp.txt, http://www.amstat.org/publications/jse/jse_data_archive.htm\n",
    "+ Markdown syntax: http://nestacms.com/docs/creating-content/markdown-cheat-sheet\n",
    "\n",
    "****"
   ]
  },
  {
   "cell_type": "code",
   "execution_count": 27,
   "metadata": {},
   "outputs": [
    {
     "data": {
      "text/html": [
       "<div>\n",
       "<style scoped>\n",
       "    .dataframe tbody tr th:only-of-type {\n",
       "        vertical-align: middle;\n",
       "    }\n",
       "\n",
       "    .dataframe tbody tr th {\n",
       "        vertical-align: top;\n",
       "    }\n",
       "\n",
       "    .dataframe thead th {\n",
       "        text-align: right;\n",
       "    }\n",
       "</style>\n",
       "<table border=\"1\" class=\"dataframe\">\n",
       "  <thead>\n",
       "    <tr style=\"text-align: right;\">\n",
       "      <th></th>\n",
       "      <th>temperature</th>\n",
       "      <th>gender</th>\n",
       "      <th>heart_rate</th>\n",
       "    </tr>\n",
       "  </thead>\n",
       "  <tbody>\n",
       "    <tr>\n",
       "      <th>0</th>\n",
       "      <td>99.3</td>\n",
       "      <td>F</td>\n",
       "      <td>68.0</td>\n",
       "    </tr>\n",
       "    <tr>\n",
       "      <th>1</th>\n",
       "      <td>98.4</td>\n",
       "      <td>F</td>\n",
       "      <td>81.0</td>\n",
       "    </tr>\n",
       "    <tr>\n",
       "      <th>2</th>\n",
       "      <td>97.8</td>\n",
       "      <td>M</td>\n",
       "      <td>73.0</td>\n",
       "    </tr>\n",
       "    <tr>\n",
       "      <th>3</th>\n",
       "      <td>99.2</td>\n",
       "      <td>F</td>\n",
       "      <td>66.0</td>\n",
       "    </tr>\n",
       "    <tr>\n",
       "      <th>4</th>\n",
       "      <td>98.0</td>\n",
       "      <td>F</td>\n",
       "      <td>73.0</td>\n",
       "    </tr>\n",
       "  </tbody>\n",
       "</table>\n",
       "</div>"
      ],
      "text/plain": [
       "   temperature gender  heart_rate\n",
       "0         99.3      F        68.0\n",
       "1         98.4      F        81.0\n",
       "2         97.8      M        73.0\n",
       "3         99.2      F        66.0\n",
       "4         98.0      F        73.0"
      ]
     },
     "execution_count": 27,
     "metadata": {},
     "output_type": "execute_result"
    }
   ],
   "source": [
    "df.head()"
   ]
  },
  {
   "cell_type": "code",
   "execution_count": 28,
   "metadata": {},
   "outputs": [
    {
     "data": {
      "image/png": "[encoded data removed]",
      "text/plain": [
       "<Figure size 432x288 with 1 Axes>"
      ]
     },
     "metadata": {},
     "output_type": "display_data"
    }
   ],
   "source": [
    "from statsmodels.graphics.gofplots import qqplot\n",
    "\n",
    "qqplot(df['temperature'],line='s')\n",
    "plt.show()"
   ]
  },
  {
   "cell_type": "code",
   "execution_count": 29,
   "metadata": {},
   "outputs": [
    {
     "name": "stdout",
     "output_type": "stream",
     "text": [
      "Statistics=0.987, p=0.233\n",
      "Sample looks Gaussian (fail to reject H0)\n"
     ]
    }
   ],
   "source": [
    "from scipy.stats import shapiro\n",
    "\n",
    "stat, p = shapiro(df['temperature'])\n",
    "print('Statistics=%.3f, p=%.3f' % (stat, p))\n",
    "# interpret\n",
    "alpha = 0.05\n",
    "if p > alpha:\n",
    "\tprint('Sample looks Gaussian (fail to reject H0)')\n",
    "else:\n",
    "\tprint('Sample does not look Gaussian (reject H0)')"
   ]
  },
  {
   "cell_type": "code",
   "execution_count": 30,
   "metadata": {},
   "outputs": [
    {
     "name": "stdout",
     "output_type": "stream",
     "text": [
      "Statistics=2.704, p=0.259\n",
      "Sample looks Gaussian (fail to reject H0)\n"
     ]
    }
   ],
   "source": [
    "from scipy.stats import normaltest\n",
    "\n",
    "stat, p = normaltest(df['temperature'])\n",
    "print('Statistics=%.3f, p=%.3f' % (stat, p))\n",
    "# interpret\n",
    "alpha = 0.05\n",
    "if p > alpha:\n",
    "\tprint('Sample looks Gaussian (fail to reject H0)')\n",
    "else:\n",
    "\tprint('Sample does not look Gaussian (reject H0)')\n"
   ]
  },
  {
   "cell_type": "code",
   "execution_count": 31,
   "metadata": {},
   "outputs": [
    {
     "name": "stdout",
     "output_type": "stream",
     "text": [
      "130 65 65\n"
     ]
    }
   ],
   "source": [
    "## 2. \n",
    "\n",
    "## There is a sufficiently large sample size \n",
    "t = len(df['gender'])\n",
    "m = len(df['gender'].loc[df['gender']== \"M\"])\n",
    "f = t - m\n",
    "\n",
    "print(t,m,f)\n",
    "\n",
    "## Since there are more than 30 in total sample size and, for the categorical data, there are more than 10 \n",
    "## positives and 10 negatives, we can state the sample size is sufficiently large.\n",
    "\n",
    "## 130 people definitely represent less than 10% of the population in this case, thus we can assume independence. \n"
   ]
  },
  {
   "cell_type": "code",
   "execution_count": 32,
   "metadata": {},
   "outputs": [],
   "source": [
    "## 3. \n",
    "\n",
    "sample_mean = df['temperature'].mean()\n",
    "h0_mean = 98.6\n",
    "\n",
    "df['shifted temperature'] = df['temperature'] - sample_mean + h0_mean \n"
   ]
  },
  {
   "cell_type": "code",
   "execution_count": 33,
   "metadata": {},
   "outputs": [],
   "source": [
    "def bootstrap_replicate_1d(data, func):\n",
    "    return func(np.random.choice(data, size=len(data)))"
   ]
  },
  {
   "cell_type": "code",
   "execution_count": 34,
   "metadata": {},
   "outputs": [],
   "source": [
    "def draw_bs_reps(data, func, size=1):\n",
    "    \"\"\"Draw bootstrap replicates.\"\"\"\n",
    "\n",
    "    # Initialize array of replicates: bs_replicates\n",
    "    bs_replicates = np.empty(size)\n",
    "\n",
    "    # Generate replicates\n",
    "    for i in range(size):\n",
    "        bs_replicates[i] = bootstrap_replicate_1d(data,func)\n",
    "\n",
    "    return bs_replicates"
   ]
  },
  {
   "cell_type": "code",
   "execution_count": 65,
   "metadata": {},
   "outputs": [],
   "source": [
    "import numpy as np\n",
    "\n",
    "bs_mean = draw_bs_reps(df['shifted temperature'],np.mean,100000)"
   ]
  },
  {
   "cell_type": "code",
   "execution_count": 71,
   "metadata": {},
   "outputs": [
    {
     "name": "stdout",
     "output_type": "stream",
     "text": [
      "0.0\n"
     ]
    }
   ],
   "source": [
    "p_val = float(np.sum(bs_mean < sample_mean) + np.sum(bs_mean > h0_mean + (h0_mean - sample_mean)))/float(len(bs_mean))\n",
    "print(p_val)"
   ]
  },
  {
   "cell_type": "code",
   "execution_count": 81,
   "metadata": {},
   "outputs": [
    {
     "name": "stdout",
     "output_type": "stream",
     "text": [
      "using a t-test, p-value is  2.1887464624095175e-07\n",
      "using a z-test, p-value is  4.3523151658821886e-08\n"
     ]
    }
   ],
   "source": [
    "## Frequentist Statistical Testing\n",
    "\n",
    "## We will use a one-sample test, since we are not testing whether two samples differ significantly, but rather\n",
    "## the entire sample offers any significant evident that the true population mean isn't 98.6. It is appropriate to \n",
    "## use the z-test here due to the fact that we have a sample size of > 30 and normally distributed. \n",
    "\n",
    "## For curiosity, I'm calculating the p-value using two methods. \n",
    "\n",
    "import scipy.stats as stats\n",
    "\n",
    "n = len(df['temperature'])\n",
    "sample_std = np.std( df['temperature'])\n",
    "stat = (sample_mean - h0_mean)/(sample_std/(n**0.5))\n",
    "p_val = stats.t.sf(np.abs(stat), n-1)*2\n",
    "print(\"using a t-test, p-value is \", p_val)\n",
    "\n",
    "p_val = stats.norm.sf(np.abs(stat))*2\n",
    "print(\"using a z-test, p-value is \" , p_val)\n",
    "\n"
   ]
  },
  {
   "cell_type": "code",
   "execution_count": 79,
   "metadata": {},
   "outputs": [
    {
     "name": "stdout",
     "output_type": "stream",
     "text": [
      "2.4106320415561276e-07\n",
      "4.9021570141012155e-08\n"
     ]
    }
   ],
   "source": [
    "from scipy.stats import ttest_1samp\n",
    "from statsmodels.stats import weightstats as stests\n",
    "\n",
    "tset, pval = ttest_1samp(df['temperature'], h0_mean)\n",
    "print(pval)\n",
    "\n",
    "ztest ,pval = stests.ztest(df['temperature'], x2=None, value=h0_mean)\n",
    "print(float(pval))"
   ]
  },
  {
   "cell_type": "code",
   "execution_count": 82,
   "metadata": {},
   "outputs": [
    {
     "name": "stdout",
     "output_type": "stream",
     "text": [
      "0.04345744059622785\n",
      "0.018881814172881796\n",
      "using a t-test, p-value is  0.02070129586378505\n",
      "using a z-test, p-value is  0.005104956725501526\n"
     ]
    }
   ],
   "source": [
    "## The results are two predicted. The t-test tended to overpredict the tails. Both tests show that the probability\n",
    "## of getting a result at least as extreme as the one provided in the sample if the null hypothesis were true is\n",
    "## negligible. Thus, we can reject the null hypothesis and state that the population mean is not 98.6. \n",
    "\n",
    "## Now to repeat the hypothesis testing with a sample size of 10\n",
    "\n",
    "new_sample = np.random.choice(df['temperature'],10)\n",
    "\n",
    "tset, pval = ttest_1samp(new_sample, h0_mean)\n",
    "print(pval)\n",
    "\n",
    "ztest ,pval = stests.ztest(new_sample, x2=None, value=h0_mean)\n",
    "print(float(pval))\n",
    "\n",
    "n = len(new_sample)\n",
    "sample_std = np.std(new_sample)\n",
    "stat = (sample_mean - h0_mean)/(sample_std/(n**0.5))\n",
    "p_val = stats.t.sf(np.abs(stat), n-1)*2\n",
    "print(\"using a t-test, p-value is \", p_val)\n",
    "\n",
    "p_val = stats.norm.sf(np.abs(stat))*2\n",
    "print(\"using a z-test, p-value is \" , p_val)\n",
    "\n",
    "\n",
    "## In this case, the t-test is more suitable since we do not have a large sample size, and a z test would underestimate \n",
    "## The uncertainty in our distribution."
   ]
  },
  {
   "cell_type": "code",
   "execution_count": 91,
   "metadata": {},
   "outputs": [
    {
     "name": "stdout",
     "output_type": "stream",
     "text": [
      "[98.12382692 98.37307692]\n",
      "0.12462500000000887\n",
      "[98.00372620940206, 98.4947353290595]\n",
      "0.24550455982871494\n"
     ]
    }
   ],
   "source": [
    "## 4. \n",
    "\n",
    "## bootstrap: \n",
    "\n",
    "bs_mean = draw_bs_reps(df['temperature'],np.mean,100000)\n",
    "a = np.percentile(bs_mean,[2.5,97.5])\n",
    "margin_of_error = (a[1] - a[0])/2 \n",
    "print(np.percentile(bs_mean,[2.5,97.5]))\n",
    "print(margin_of_error)\n",
    "\n",
    "## frequentist. \n",
    "\n",
    "z_score = stats.norm.ppf(.975)\n",
    "ci = [sample_mean - z_score*sample_std/(n**0.5) , sample_mean + z_score*sample_std/(n**0.5) ]\n",
    "print(ci)\n",
    "print(z_score*sample_std/(n**0.5))\n",
    "\n",
    "## We have a 95% confidence interval that the the true mean will be "
   ]
  },
  {
   "cell_type": "code",
   "execution_count": 97,
   "metadata": {},
   "outputs": [],
   "source": [
    "## 5. \n",
    "\n",
    "## bootstrap, since it is a robust method that does not assume a normal distribution. \n",
    "\n",
    "def permutation_sample(data1, data2):\n",
    "    \"\"\"Generate a permutation sample from two data sets.\"\"\"\n",
    "\n",
    "    # Concatenate the data sets: data\n",
    "    data = np.concatenate((data1,data2))\n",
    "\n",
    "    # Permute the concatenated array: permuted_data\n",
    "    permuted_data = np.random.permutation(data)\n",
    "\n",
    "    # Split the permuted array into two: perm_sample_1, perm_sample_2\n",
    "    perm_sample_1 = permuted_data[:len(data1)]\n",
    "    perm_sample_2 = permuted_data[len(data1):]\n",
    "\n",
    "    return perm_sample_1, perm_sample_2\n",
    "\n",
    "def draw_perm_reps(data_1, data_2, func, size=1):\n",
    "    \"\"\"Generate multiple permutation replicates.\"\"\"\n",
    "\n",
    "    # Initialize array of replicates: perm_replicates\n",
    "    perm_replicates = np.empty((size))\n",
    "\n",
    "    for i in range(size):\n",
    "        # Generate permutation sample\n",
    "        perm_sample_1, perm_sample_2 = permutation_sample(data_1,data_2)\n",
    "\n",
    "        # Compute the test statistic\n",
    "        perm_replicates[i] = func(perm_sample_1, perm_sample_2)\n",
    "\n",
    "    return perm_replicates\n",
    "\n",
    "\n",
    "def diff_of_means(data1,data2):\n",
    "    return np.abs(np.mean(data1) - np.mean(data2))\n",
    "\n",
    "\n",
    "temperature_male = df['temperature'].loc[df['gender']=='M']\n",
    "temperature_female = df['temperature'].loc[df['gender']=='F']\n",
    "\n",
    "\n",
    "# Draw 10,000 permutation replicates: perm_replicates\n",
    "perm_replicates = draw_perm_reps(temperature_male, temperature_female,\n",
    "                                 diff_of_means, size=10000)\n",
    "\n",
    "\n",
    "\n",
    "diff_means = np.abs(temperature_male.mean() - temperature_female.mean())\n",
    "\n",
    "# Compute p-value: p\n",
    "p = np.sum(perm_replicates >= diff_means) / len(perm_replicates)\n",
    "\n",
    "## since p-value less than 0.05, we can state that we cannot reject the null hypothesis that each genders have \n",
    "## different mean temperatures. "
   ]
  },
  {
   "cell_type": "code",
   "execution_count": null,
   "metadata": {},
   "outputs": [],
   "source": []
  },
  {
   "cell_type": "code",
   "execution_count": null,
   "metadata": {},
   "outputs": [],
   "source": []
  }
 ],
 "metadata": {
  "kernelspec": {
   "display_name": "Python 3",
   "language": "python",
   "name": "python3"
  },
  "language_info": {
   "codemirror_mode": {
    "name": "ipython",
    "version": 3
   },
   "file_extension": ".py",
   "mimetype": "text/x-python",
   "name": "python",
   "nbconvert_exporter": "python",
   "pygments_lexer": "ipython3",
   "version": "3.6.8"
  }
 },
 "nbformat": 4,
 "nbformat_minor": 1
}
